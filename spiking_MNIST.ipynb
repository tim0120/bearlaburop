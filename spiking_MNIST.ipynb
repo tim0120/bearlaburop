{
 "cells": [
  {
   "cell_type": "code",
   "execution_count": 1,
   "id": "8f91eb4e-1e0e-410d-ae3f-fa8597c8cb72",
   "metadata": {},
   "outputs": [],
   "source": [
    "import torch\n",
    "import torch.nn as nn\n",
    "import spikingjelly"
   ]
  },
  {
   "cell_type": "code",
   "execution_count": 2,
   "id": "b0792f86",
   "metadata": {},
   "outputs": [
    {
     "ename": "AttributeError",
     "evalue": "module 'spikingjelly' has no attribute 'activation_based'",
     "output_type": "error",
     "traceback": [
      "\u001b[0;31m---------------------------------------------------------------------------\u001b[0m",
      "\u001b[0;31mAttributeError\u001b[0m                            Traceback (most recent call last)",
      "\u001b[1;32m/Users/timkostolansky/Dropbox (MIT)/bearlaburop/spiking_MNIST.ipynb Cell 2\u001b[0m in \u001b[0;36m<cell line: 1>\u001b[0;34m()\u001b[0m\n\u001b[0;32m----> <a href='vscode-notebook-cell:/Users/timkostolansky/Dropbox%20%28MIT%29/bearlaburop/spiking_MNIST.ipynb#W1sZmlsZQ%3D%3D?line=0'>1</a>\u001b[0m spikingjelly\u001b[39m.\u001b[39;49mactivation_based\n",
      "\u001b[0;31mAttributeError\u001b[0m: module 'spikingjelly' has no attribute 'activation_based'"
     ]
    }
   ],
   "source": [
    "spikingjelly.activation_based"
   ]
  },
  {
   "cell_type": "code",
   "execution_count": null,
   "id": "8ec30b9f",
   "metadata": {},
   "outputs": [],
   "source": []
  }
 ],
 "metadata": {
  "kernelspec": {
   "display_name": "base",
   "language": "python",
   "name": "python3"
  },
  "language_info": {
   "codemirror_mode": {
    "name": "ipython",
    "version": 3
   },
   "file_extension": ".py",
   "mimetype": "text/x-python",
   "name": "python",
   "nbconvert_exporter": "python",
   "pygments_lexer": "ipython3",
   "version": "3.9.13 (main, Aug 25 2022, 18:24:45) \n[Clang 12.0.0 ]"
  },
  "vscode": {
   "interpreter": {
    "hash": "c5aa85ade289060635948af45a9905824f20b38e55a194f2ec4c4982c704c885"
   }
  }
 },
 "nbformat": 4,
 "nbformat_minor": 5
}
